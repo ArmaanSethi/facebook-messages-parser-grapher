{
 "cells": [
  {
   "cell_type": "code",
   "execution_count": null,
   "metadata": {},
   "outputs": [],
   "source": [
    "from tqdm import tqdm\n",
    "import pickle as pkl\n",
    "\n",
    "from userinfo import YOUR_NAME, START_DAY, END_DAY"
   ]
  },
  {
   "cell_type": "code",
   "execution_count": null,
   "metadata": {},
   "outputs": [],
   "source": [
    "# from A to B\n",
    "# from B to A\n",
    "# from A to B\n",
    "# from B to A\n",
    "# from A to B\n",
    "# ===\n",
    "# from C to D\n",
    "# from D to C\n",
    "# from C to D\n",
    "# ===\n",
    "# from E to F\n",
    "# from F to E\n",
    "# from E to F\n",
    "# from F to E\n",
    "\n",
    "#format for chatbot txt"
   ]
  },
  {
   "cell_type": "code",
   "execution_count": null,
   "metadata": {},
   "outputs": [],
   "source": [
    "convos = pkl.load(open(\"messages.pkl\", 'rb'))\n",
    "#1: name (string)\n",
    "#2: num_messages (dict name:num_messages)\n",
    "#3: datetime (list of datetime objs)\n",
    "#4: text (list of messages)\n",
    "#5: who (list of names)\n",
    "#6: group (bool)\n",
    "file = open(\"chatbot.txt\",\"w\") \n",
    " \n",
    "print(\"Total Conversations: \", len(convos), \"\\n\")"
   ]
  },
  {
   "cell_type": "code",
   "execution_count": null,
   "metadata": {},
   "outputs": [],
   "source": [
    "for convo in tqdm(convos):\n",
    "    for msg in reversed(convo[4]):\n",
    "        if(msg != '===' or msg != \"\"):\n",
    "            file.write(msg + '\\n')\n",
    "    file.write(\"===\")\n",
    "    \n",
    "file.close()    "
   ]
  }
 ],
 "metadata": {
  "kernelspec": {
   "display_name": "Python 3",
   "language": "python",
   "name": "python3"
  },
  "language_info": {
   "codemirror_mode": {
    "name": "ipython",
    "version": 3
   },
   "file_extension": ".py",
   "mimetype": "text/x-python",
   "name": "python",
   "nbconvert_exporter": "python",
   "pygments_lexer": "ipython3",
   "version": "3.6.5"
  }
 },
 "nbformat": 4,
 "nbformat_minor": 2
}
