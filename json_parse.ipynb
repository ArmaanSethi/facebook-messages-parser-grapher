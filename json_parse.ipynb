{
 "cells": [
  {
   "cell_type": "code",
   "execution_count": null,
   "metadata": {},
   "outputs": [],
   "source": [
    "import os\n",
    "import sqlite3\n",
    "import json\n",
    "from datetime import datetime, timedelta\n",
    "from tqdm import tqdm\n",
    "import pickle as pkl\n",
    "import pandas as pd\n",
    "import numpy as np\n",
    "from matplotlib import pyplot as plt\n",
    "\n",
    "from userinfo import YOUR_NAME, START_DAY, END_DAY"
   ]
  },
  {
   "cell_type": "code",
   "execution_count": null,
   "metadata": {},
   "outputs": [],
   "source": [
    "# Things that are ignored\n",
    "# Reactions, downloaded files, Audio files, Plans\n",
    "\n",
    "def parse_file(f):\n",
    "    with open(f) as json_file:\n",
    "        data = json.load(json_file)\n",
    "\n",
    "        if('title' not in data): # No title, seems to be when someone deletes their account\n",
    "            title = data['thread_path']\n",
    "        else:\n",
    "            title = data['title']\n",
    "\n",
    "        id = data['thread_path']\n",
    "\n",
    "        group = True\n",
    "        if( 'participants' not in data): # Talking to a bot\n",
    "            group = True # I guess treat as group chat\n",
    "        else:\n",
    "            if(len(data['participants']) <= 2):\n",
    "                group = False\n",
    "\n",
    "        people_count = {}\n",
    "        date_times = []\n",
    "        texts = []\n",
    "        images = []\n",
    "        user = []\n",
    "\n",
    "        for msg in data['messages']:\n",
    "            if(not 'sender_name' in msg): # User left the group or User Deleted Account\n",
    "                usr = \"NO SENDER NAME\"\n",
    "            else:\n",
    "                usr = msg['sender_name']\n",
    "\n",
    "            if usr in people_count:\n",
    "                people_count[usr] += 1\n",
    "            else: #Add person to people_count\n",
    "                people_count[usr] = 1\n",
    "\n",
    "            if(not 'content' in msg): #no text\n",
    "                texts.append(\"\")\n",
    "            else:\n",
    "                texts.append(msg['content'])\n",
    "\n",
    "            if(not 'photos' in msg): #no photo url...there still can be sticker url\n",
    "                images.append(\"\")\n",
    "            else:\n",
    "                images.append(msg['photos'])\n",
    "\n",
    "            if(not 'timestamp_ms' in msg):\n",
    "                timestamp = int(msg['timestamp'])\n",
    "            else:\n",
    "                timestamp = int(int(msg['timestamp_ms'])/1000)\n",
    "\n",
    "            date_times.append(datetime.fromtimestamp(timestamp))\n",
    "            user.append(usr)\n",
    "\n",
    "    return(id ,str(title), people_count, date_times, texts, user, group)\n"
   ]
  },
  {
   "cell_type": "code",
   "execution_count": null,
   "metadata": {},
   "outputs": [],
   "source": [
    "def list_files(paths):\n",
    "    files = []\n",
    "    root = os.getcwd()\n",
    "#     print(root)\n",
    "    for path in paths:\n",
    "#         print(os.getcwd())\n",
    "        os.chdir(path)\n",
    "        prefix = os.getcwd()\n",
    "        f = os.listdir()\n",
    "        files.extend(list(map(lambda x: prefix+\"/\"+x, f)))\n",
    "        os.chdir(root)\n",
    "        \n",
    "    return files"
   ]
  },
  {
   "cell_type": "code",
   "execution_count": null,
   "metadata": {},
   "outputs": [],
   "source": [
    "paths = [\"facebook/messages/archived_threads\", \"facebook/messages/inbox\"]\n",
    "files = list_files(paths)\n",
    "# print(\"START\")\n",
    "fails = []\n",
    "success = []"
   ]
  },
  {
   "cell_type": "code",
   "execution_count": null,
   "metadata": {},
   "outputs": [],
   "source": [
    "files"
   ]
  },
  {
   "cell_type": "code",
   "execution_count": null,
   "metadata": {},
   "outputs": [],
   "source": [
    "for f in tqdm(files):\n",
    "    try:\n",
    "        if(f != \".DS_Store\"): # ignore other generic files\n",
    "            filename = os.path.join(f, \"message.json\")\n",
    "            success.append(parse_file(filename))\n",
    "    except Exception as e:\n",
    "        print(\"Failed to parse. Exception: \", repr(e), \" \", root, \"/\", filename)\n",
    "        fails.append(f)\n"
   ]
  },
  {
   "cell_type": "code",
   "execution_count": null,
   "metadata": {},
   "outputs": [],
   "source": [
    "print(os.getcwd())"
   ]
  },
  {
   "cell_type": "code",
   "execution_count": null,
   "metadata": {},
   "outputs": [],
   "source": [
    "pkl.dump(success, open(\"messages.pkl\", \"wb\"))\n",
    "pkl.dump(fails, open(\"fails.pkl\", \"wb\"))"
   ]
  },
  {
   "cell_type": "code",
   "execution_count": null,
   "metadata": {},
   "outputs": [],
   "source": []
  }
 ],
 "metadata": {
  "kernelspec": {
   "display_name": "Python 3",
   "language": "python",
   "name": "python3"
  },
  "language_info": {
   "codemirror_mode": {
    "name": "ipython",
    "version": 3
   },
   "file_extension": ".py",
   "mimetype": "text/x-python",
   "name": "python",
   "nbconvert_exporter": "python",
   "pygments_lexer": "ipython3",
   "version": "3.6.5"
  }
 },
 "nbformat": 4,
 "nbformat_minor": 2
}
